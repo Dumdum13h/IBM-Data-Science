{
  "metadata": {
    "kernelspec": {
      "name": "python",
      "display_name": "Python (Pyodide)",
      "language": "python"
    },
    "language_info": {
      "codemirror_mode": {
        "name": "python",
        "version": 3
      },
      "file_extension": ".py",
      "mimetype": "text/x-python",
      "name": "python",
      "nbconvert_exporter": "python",
      "pygments_lexer": "ipython3",
      "version": "3.8"
    }
  },
  "nbformat_minor": 4,
  "nbformat": 4,
  "cells": [
    {
      "cell_type": "markdown",
      "source": "# Data Science Peer Graded Assessment",
      "metadata": {}
    },
    {
      "cell_type": "markdown",
      "source": "## Introduction \nWelcome to this notebook made specifically for the final test of the 2nd module of IBM Data Science class",
      "metadata": {}
    },
    {
      "cell_type": "markdown",
      "source": "### Data science languages\n\n- Python\n- R\n- SQL",
      "metadata": {}
    },
    {
      "cell_type": "markdown",
      "source": "### Data Science Libraries\n\n- Pandas\n- NumPy\n- Matplotlib",
      "metadata": {}
    },
    {
      "cell_type": "markdown",
      "source": "### Data Science Tools\n\n| Tool         | Description                   |\n|--------------|-------------------------------|\n| Jupyter      | Interactive notebooks         |\n| TensorFlow   | Machine learning framework    |\n| scikit-learn | Machine learning library      |\n",
      "metadata": {}
    },
    {
      "cell_type": "markdown",
      "source": "### Arithmetic Expression Examples\n\nLet's explore some basic arithmetic operations using Python.",
      "metadata": {}
    },
    {
      "cell_type": "markdown",
      "source": "### Simple arithmetics",
      "metadata": {}
    },
    {
      "cell_type": "code",
      "source": "x = 5\ny = 3\nmultiplication_result = x * y\naddition_result = x + y\nmultiplication_result, addition_result\n",
      "metadata": {
        "trusted": true
      },
      "outputs": [
        {
          "execution_count": 3,
          "output_type": "execute_result",
          "data": {
            "text/plain": "(15, 8)"
          },
          "metadata": {}
        }
      ],
      "execution_count": 3
    },
    {
      "cell_type": "markdown",
      "source": "### Convert minutes to hours",
      "metadata": {}
    },
    {
      "cell_type": "code",
      "source": "minutes = 120\nhours = minutes / 60\nhours",
      "metadata": {
        "trusted": true
      },
      "outputs": [
        {
          "execution_count": 2,
          "output_type": "execute_result",
          "data": {
            "text/plain": "2.0"
          },
          "metadata": {}
        }
      ],
      "execution_count": 2
    },
    {
      "cell_type": "markdown",
      "source": "## Objectives\n\n- Explore basic arithmetic operations.\n- Introduce data science languages and libraries.\n- Perform simple calculations and conversions.",
      "metadata": {}
    },
    {
      "cell_type": "markdown",
      "source": "## Author\n\nDUMAY Antoine",
      "metadata": {}
    }
  ]
}